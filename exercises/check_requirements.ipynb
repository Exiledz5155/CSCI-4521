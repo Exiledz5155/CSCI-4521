{
 "cells": [
  {
   "cell_type": "code",
   "execution_count": 7,
   "id": "559861db-06d0-4a24-bab6-0d4a6d63abab",
   "metadata": {},
   "outputs": [],
   "source": [
    "import pandas as pd\n",
    "import numpy as np\n",
    "import matplotlib.pyplot as plt\n",
    "import seaborn as sn\n",
    "import sklearn\n",
    "import torch\n",
    "import tensorboard"
   ]
  },
  {
   "cell_type": "markdown",
   "id": "ece51f5b-49ad-4651-a43c-7b2c2218d721",
   "metadata": {},
   "source": [
    "### The above cell should run without error"
   ]
  }
 ],
 "metadata": {
  "kernelspec": {
   "display_name": "Python 3 (ipykernel)",
   "language": "python",
   "name": "python3"
  },
  "language_info": {
   "codemirror_mode": {
    "name": "ipython",
    "version": 3
   },
   "file_extension": ".py",
   "mimetype": "text/x-python",
   "name": "python",
   "nbconvert_exporter": "python",
   "pygments_lexer": "ipython3",
   "version": "3.12.4"
  }
 },
 "nbformat": 4,
 "nbformat_minor": 5
}
